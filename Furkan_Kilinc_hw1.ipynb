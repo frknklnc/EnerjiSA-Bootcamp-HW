{
 "cells": [
  {
   "cell_type": "markdown",
   "id": "c76c33c6",
   "metadata": {},
   "source": [
    "## Soru-1 \n",
    "\n",
    "**Nominal**: Cinsiyet\n",
    "\n",
    "**Ordinal**: Belirtiler\n",
    "\n",
    "**İnterval**: Vücut Sıcaklığı\n",
    "\n",
    "**Ratio**: Yaş"
   ]
  },
  {
   "cell_type": "code",
   "execution_count": 7,
   "id": "013efa5b",
   "metadata": {},
   "outputs": [
    {
     "name": "stdout",
     "output_type": "stream",
     "text": [
      "     İsim Cinsiyet  Yaş  Vücut sıcaklığı Belirtiler\n",
      "0  Furkan    Erkek   26               39        Çok\n",
      "1    Sude    Kadın   22               36   Belirsiz\n",
      "2   Kübra    Kadın   18               37         Az\n",
      "3     Ali    Erkek   35               40  Çok fazla\n"
     ]
    }
   ],
   "source": [
    "import pandas as pd\n",
    " \n",
    "\n",
    "data1 = {'İsim':['Furkan', 'Sude', 'Kübra', 'Ali'],\n",
    "        'Cinsiyet':['Erkek', 'Kadın', 'Kadın', 'Erkek'],\n",
    "        'Yaş':[26,22,18,35],\n",
    "        'Vücut sıcaklığı':[39,36,37,40],\n",
    "       'Belirtiler':['Çok','Belirsiz','Az','Çok fazla']}\n",
    " \n",
    "\n",
    "dataframe = pd.DataFrame(data1)\n",
    " \n",
    "print(dataframe)"
   ]
  },
  {
   "cell_type": "markdown",
   "id": "d2724368",
   "metadata": {},
   "source": [
    "## Soru - 2"
   ]
  },
  {
   "cell_type": "code",
   "execution_count": 1,
   "id": "c21efeaa",
   "metadata": {},
   "outputs": [
    {
     "name": "stdout",
     "output_type": "stream",
     "text": [
      "Index(['id', 'diagnosis', 'radius_mean', 'texture_mean', 'perimeter_mean',\n",
      "       'area_mean', 'smoothness_mean', 'compactness_mean', 'concavity_mean',\n",
      "       'concave points_mean', 'symmetry_mean', 'fractal_dimension_mean',\n",
      "       'radius_se', 'texture_se', 'perimeter_se', 'area_se', 'smoothness_se',\n",
      "       'compactness_se', 'concavity_se', 'concave points_se', 'symmetry_se',\n",
      "       'fractal_dimension_se', 'radius_worst', 'texture_worst',\n",
      "       'perimeter_worst', 'area_worst', 'smoothness_worst',\n",
      "       'compactness_worst', 'concavity_worst', 'concave points_worst',\n",
      "       'symmetry_worst', 'fractal_dimension_worst', 'Unnamed: 32'],\n",
      "      dtype='object')\n"
     ]
    }
   ],
   "source": [
    "import pandas as pd\n",
    "\n",
    "df1 = pd.read_csv('data.csv', sep = ',')\n",
    "\n",
    "print(df1.columns) \n"
   ]
  },
  {
   "cell_type": "code",
   "execution_count": 2,
   "id": "10c57dfd",
   "metadata": {},
   "outputs": [
    {
     "name": "stdout",
     "output_type": "stream",
     "text": [
      "     radius_mean  area_mean  compactness_mean\n",
      "0          17.99     1001.0           0.27760\n",
      "1          20.57     1326.0           0.07864\n",
      "2          19.69     1203.0           0.15990\n",
      "3          11.42      386.1           0.28390\n",
      "4          20.29     1297.0           0.13280\n",
      "..           ...        ...               ...\n",
      "564        21.56     1479.0           0.11590\n",
      "565        20.13     1261.0           0.10340\n",
      "566        16.60      858.1           0.10230\n",
      "567        20.60     1265.0           0.27700\n",
      "568         7.76      181.0           0.04362\n",
      "\n",
      "[569 rows x 3 columns]\n"
     ]
    }
   ],
   "source": [
    "df = df1[['radius_mean', 'area_mean', 'compactness_mean']]\n",
    "print(df)"
   ]
  },
  {
   "cell_type": "code",
   "execution_count": 3,
   "id": "f9a6e1d8",
   "metadata": {},
   "outputs": [
    {
     "data": {
      "text/html": [
       "<div>\n",
       "<style scoped>\n",
       "    .dataframe tbody tr th:only-of-type {\n",
       "        vertical-align: middle;\n",
       "    }\n",
       "\n",
       "    .dataframe tbody tr th {\n",
       "        vertical-align: top;\n",
       "    }\n",
       "\n",
       "    .dataframe thead th {\n",
       "        text-align: right;\n",
       "    }\n",
       "</style>\n",
       "<table border=\"1\" class=\"dataframe\">\n",
       "  <thead>\n",
       "    <tr style=\"text-align: right;\">\n",
       "      <th></th>\n",
       "      <th>radius_mean</th>\n",
       "      <th>area_mean</th>\n",
       "      <th>compactness_mean</th>\n",
       "    </tr>\n",
       "  </thead>\n",
       "  <tbody>\n",
       "    <tr>\n",
       "      <th>count</th>\n",
       "      <td>569.000000</td>\n",
       "      <td>569.000000</td>\n",
       "      <td>569.000000</td>\n",
       "    </tr>\n",
       "    <tr>\n",
       "      <th>mean</th>\n",
       "      <td>14.127292</td>\n",
       "      <td>654.889104</td>\n",
       "      <td>0.104341</td>\n",
       "    </tr>\n",
       "    <tr>\n",
       "      <th>std</th>\n",
       "      <td>3.524049</td>\n",
       "      <td>351.914129</td>\n",
       "      <td>0.052813</td>\n",
       "    </tr>\n",
       "    <tr>\n",
       "      <th>min</th>\n",
       "      <td>6.981000</td>\n",
       "      <td>143.500000</td>\n",
       "      <td>0.019380</td>\n",
       "    </tr>\n",
       "    <tr>\n",
       "      <th>25%</th>\n",
       "      <td>11.700000</td>\n",
       "      <td>420.300000</td>\n",
       "      <td>0.064920</td>\n",
       "    </tr>\n",
       "    <tr>\n",
       "      <th>50%</th>\n",
       "      <td>13.370000</td>\n",
       "      <td>551.100000</td>\n",
       "      <td>0.092630</td>\n",
       "    </tr>\n",
       "    <tr>\n",
       "      <th>75%</th>\n",
       "      <td>15.780000</td>\n",
       "      <td>782.700000</td>\n",
       "      <td>0.130400</td>\n",
       "    </tr>\n",
       "    <tr>\n",
       "      <th>max</th>\n",
       "      <td>28.110000</td>\n",
       "      <td>2501.000000</td>\n",
       "      <td>0.345400</td>\n",
       "    </tr>\n",
       "  </tbody>\n",
       "</table>\n",
       "</div>"
      ],
      "text/plain": [
       "       radius_mean    area_mean  compactness_mean\n",
       "count   569.000000   569.000000        569.000000\n",
       "mean     14.127292   654.889104          0.104341\n",
       "std       3.524049   351.914129          0.052813\n",
       "min       6.981000   143.500000          0.019380\n",
       "25%      11.700000   420.300000          0.064920\n",
       "50%      13.370000   551.100000          0.092630\n",
       "75%      15.780000   782.700000          0.130400\n",
       "max      28.110000  2501.000000          0.345400"
      ]
     },
     "execution_count": 3,
     "metadata": {},
     "output_type": "execute_result"
    }
   ],
   "source": [
    "df.describe()"
   ]
  },
  {
   "cell_type": "markdown",
   "id": "f4df0163",
   "metadata": {},
   "source": [
    "### radius_mean için IQR ve Outliers değerlerinin hesaplanması"
   ]
  },
  {
   "cell_type": "code",
   "execution_count": 4,
   "id": "bbee1259",
   "metadata": {},
   "outputs": [
    {
     "name": "stdout",
     "output_type": "stream",
     "text": [
      "count    569.000000\n",
      "mean      14.127292\n",
      "std        3.524049\n",
      "min        6.981000\n",
      "25%       11.700000\n",
      "50%       13.370000\n",
      "75%       15.780000\n",
      "max       28.110000\n",
      "Name: radius_mean, dtype: float64\n"
     ]
    }
   ],
   "source": [
    "desc = df.radius_mean.describe()\n",
    "print(desc)"
   ]
  },
  {
   "cell_type": "code",
   "execution_count": 5,
   "id": "c40c2e98",
   "metadata": {},
   "outputs": [
    {
     "name": "stdout",
     "output_type": "stream",
     "text": [
      "Bu iki değer aralığının dışında kalan her şey outlierdır: 5.579999999999999 , 21.9\n"
     ]
    }
   ],
   "source": [
    "Q1 = desc[4]\n",
    "Q3 = desc[6]\n",
    "IQR = Q3 - Q1\n",
    "lower_bound = Q1 - 1.5*IQR\n",
    "upper_bound = Q3 + 1.5*IQR\n",
    "print(\"Bu iki değer aralığının dışında kalan her şey outlierdır:\", lower_bound, \",\" ,upper_bound)\n"
   ]
  },
  {
   "cell_type": "code",
   "execution_count": 58,
   "id": "fadf9346",
   "metadata": {},
   "outputs": [
    {
     "name": "stdout",
     "output_type": "stream",
     "text": [
      "Outliers: 82     25.22\n",
      "108    22.27\n",
      "122    24.25\n",
      "164    23.27\n",
      "180    27.22\n",
      "202    23.29\n",
      "212    28.11\n",
      "236    23.21\n",
      "339    23.51\n",
      "352    25.73\n",
      "369    22.01\n",
      "461    27.42\n",
      "503    23.09\n",
      "521    24.63\n",
      "Name: radius_mean, dtype: float64\n"
     ]
    }
   ],
   "source": [
    "print(\"Outliers:\",df[(df.radius_mean < lower_bound) | (df.radius_mean > upper_bound)].radius_mean)"
   ]
  },
  {
   "cell_type": "code",
   "execution_count": 51,
   "id": "e858f508",
   "metadata": {},
   "outputs": [
    {
     "data": {
      "text/plain": [
       "14"
      ]
     },
     "execution_count": 51,
     "metadata": {},
     "output_type": "execute_result"
    }
   ],
   "source": [
    "df[(df.radius_mean < lower_bound) | (df.radius_mean > upper_bound)].radius_mean.count()"
   ]
  },
  {
   "cell_type": "code",
   "execution_count": 37,
   "id": "ea65fea9",
   "metadata": {},
   "outputs": [
    {
     "data": {
      "text/plain": [
       "<seaborn.axisgrid.FacetGrid at 0x21001419a90>"
      ]
     },
     "execution_count": 37,
     "metadata": {},
     "output_type": "execute_result"
    },
    {
     "data": {
      "image/png": "[encoded data removed]",
      "text/plain": [
       "<Figure size 360x360 with 1 Axes>"
      ]
     },
     "metadata": {
      "needs_background": "light"
     },
     "output_type": "display_data"
    }
   ],
   "source": [
    "sns.displot(df.radius_mean, kde=True)"
   ]
  },
  {
   "cell_type": "code",
   "execution_count": 43,
   "id": "b8ae65e1",
   "metadata": {},
   "outputs": [
    {
     "name": "stderr",
     "output_type": "stream",
     "text": [
      "C:\\Users\\furka\\anaconda3\\lib\\site-packages\\seaborn\\_decorators.py:36: FutureWarning: Pass the following variable as a keyword arg: x. From version 0.12, the only valid positional argument will be `data`, and passing other arguments without an explicit keyword will result in an error or misinterpretation.\n",
      "  warnings.warn(\n"
     ]
    },
    {
     "data": {
      "text/plain": [
       "<AxesSubplot:xlabel='radius_mean'>"
      ]
     },
     "execution_count": 43,
     "metadata": {},
     "output_type": "execute_result"
    },
    {
     "data": {
      "image/png": "[encoded data removed]",
      "text/plain": [
       "<Figure size 432x288 with 1 Axes>"
      ]
     },
     "metadata": {
      "needs_background": "light"
     },
     "output_type": "display_data"
    }
   ],
   "source": [
    "sns.boxplot(df.radius_mean)"
   ]
  },
  {
   "cell_type": "markdown",
   "id": "fec19b20",
   "metadata": {},
   "source": [
    "### area_mean için IQR ve Outliers değerlerinin hesaplanması"
   ]
  },
  {
   "cell_type": "code",
   "execution_count": 60,
   "id": "8bc58385",
   "metadata": {},
   "outputs": [
    {
     "name": "stdout",
     "output_type": "stream",
     "text": [
      "count     569.000000\n",
      "mean      654.889104\n",
      "std       351.914129\n",
      "min       143.500000\n",
      "25%       420.300000\n",
      "50%       551.100000\n",
      "75%       782.700000\n",
      "max      2501.000000\n",
      "Name: area_mean, dtype: float64\n"
     ]
    }
   ],
   "source": [
    "desc = df.area_mean.describe()\n",
    "print(desc)"
   ]
  },
  {
   "cell_type": "code",
   "execution_count": 61,
   "id": "dc541c21",
   "metadata": {},
   "outputs": [
    {
     "name": "stdout",
     "output_type": "stream",
     "text": [
      "Bu iki değerin aralığının dışında kalan her şey outlierdır: -123.30000000000001 , 1326.3000000000002\n"
     ]
    }
   ],
   "source": [
    "Q1 = desc[4]\n",
    "Q3 = desc[6]\n",
    "IQR = Q3 - Q1\n",
    "lower_bound = Q1 - 1.5*IQR\n",
    "upper_bound = Q3 + 1.5*IQR\n",
    "print(\"Bu iki değerin aralığının dışında kalan her şey outlierdır:\", lower_bound, \",\" ,upper_bound)"
   ]
  },
  {
   "cell_type": "code",
   "execution_count": 63,
   "id": "86490ff8",
   "metadata": {},
   "outputs": [
    {
     "name": "stdout",
     "output_type": "stream",
     "text": [
      "Outliers: 23     1404.0\n",
      "82     1878.0\n",
      "108    1509.0\n",
      "122    1761.0\n",
      "164    1686.0\n",
      "180    2250.0\n",
      "202    1685.0\n",
      "212    2499.0\n",
      "236    1670.0\n",
      "250    1364.0\n",
      "265    1419.0\n",
      "272    1491.0\n",
      "339    1747.0\n",
      "352    2010.0\n",
      "368    1546.0\n",
      "369    1482.0\n",
      "372    1386.0\n",
      "373    1335.0\n",
      "393    1407.0\n",
      "449    1384.0\n",
      "461    2501.0\n",
      "503    1682.0\n",
      "521    1841.0\n",
      "563    1347.0\n",
      "564    1479.0\n",
      "Name: area_mean, dtype: float64\n"
     ]
    }
   ],
   "source": [
    "print(\"Outliers:\",df[(df.area_mean < lower_bound) | (df.area_mean > upper_bound)].area_mean)"
   ]
  },
  {
   "cell_type": "code",
   "execution_count": 66,
   "id": "cfdacc79",
   "metadata": {},
   "outputs": [
    {
     "data": {
      "text/plain": [
       "25"
      ]
     },
     "execution_count": 66,
     "metadata": {},
     "output_type": "execute_result"
    }
   ],
   "source": [
    "df[(df.area_mean < lower_bound) | (df.area_mean > upper_bound)].area_mean.count()"
   ]
  },
  {
   "cell_type": "code",
   "execution_count": 38,
   "id": "c0effe3b",
   "metadata": {},
   "outputs": [
    {
     "data": {
      "text/plain": [
       "<seaborn.axisgrid.FacetGrid at 0x21000ff7b50>"
      ]
     },
     "execution_count": 38,
     "metadata": {},
     "output_type": "execute_result"
    },
    {
     "data": {
      "image/png": "[encoded data removed]",
      "text/plain": [
       "<Figure size 360x360 with 1 Axes>"
      ]
     },
     "metadata": {
      "needs_background": "light"
     },
     "output_type": "display_data"
    }
   ],
   "source": [
    "sns.displot(df.area_mean, kde=True)"
   ]
  },
  {
   "cell_type": "code",
   "execution_count": 42,
   "id": "7d9c13d3",
   "metadata": {},
   "outputs": [
    {
     "name": "stderr",
     "output_type": "stream",
     "text": [
      "C:\\Users\\furka\\anaconda3\\lib\\site-packages\\seaborn\\_decorators.py:36: FutureWarning: Pass the following variable as a keyword arg: x. From version 0.12, the only valid positional argument will be `data`, and passing other arguments without an explicit keyword will result in an error or misinterpretation.\n",
      "  warnings.warn(\n"
     ]
    },
    {
     "data": {
      "text/plain": [
       "<AxesSubplot:xlabel='area_mean'>"
      ]
     },
     "execution_count": 42,
     "metadata": {},
     "output_type": "execute_result"
    },
    {
     "data": {
      "image/png": "[encoded data removed]",
      "text/plain": [
       "<Figure size 432x288 with 1 Axes>"
      ]
     },
     "metadata": {
      "needs_background": "light"
     },
     "output_type": "display_data"
    }
   ],
   "source": [
    "sns.boxplot(df.area_mean)"
   ]
  },
  {
   "cell_type": "markdown",
   "id": "f7f4caf3",
   "metadata": {},
   "source": [
    "### compactness_mean için IQR ve Outliers değerlerinin hesaplanması"
   ]
  },
  {
   "cell_type": "code",
   "execution_count": 67,
   "id": "87bb8077",
   "metadata": {},
   "outputs": [
    {
     "name": "stdout",
     "output_type": "stream",
     "text": [
      "count    569.000000\n",
      "mean       0.104341\n",
      "std        0.052813\n",
      "min        0.019380\n",
      "25%        0.064920\n",
      "50%        0.092630\n",
      "75%        0.130400\n",
      "max        0.345400\n",
      "Name: compactness_mean, dtype: float64\n"
     ]
    }
   ],
   "source": [
    "desc = df.compactness_mean.describe()\n",
    "print(desc)"
   ]
  },
  {
   "cell_type": "code",
   "execution_count": 68,
   "id": "30d93380",
   "metadata": {},
   "outputs": [
    {
     "name": "stdout",
     "output_type": "stream",
     "text": [
      "Bu iki değerin aralığının dışında kalan her şey outlierdır: -0.03329999999999997 , 0.22861999999999996\n"
     ]
    }
   ],
   "source": [
    "Q1 = desc[4]\n",
    "Q3 = desc[6]\n",
    "IQR = Q3 - Q1\n",
    "lower_bound = Q1 - 1.5*IQR\n",
    "upper_bound = Q3 + 1.5*IQR\n",
    "print(\"Bu iki değerin aralığının dışında kalan her şey outlierdır:\", lower_bound, \",\" ,upper_bound)"
   ]
  },
  {
   "cell_type": "code",
   "execution_count": 69,
   "id": "1e86a2aa",
   "metadata": {},
   "outputs": [
    {
     "name": "stdout",
     "output_type": "stream",
     "text": [
      "Outliers: 0      0.2776\n",
      "3      0.2839\n",
      "9      0.2396\n",
      "12     0.2458\n",
      "14     0.2293\n",
      "78     0.3454\n",
      "82     0.2665\n",
      "108    0.2768\n",
      "122    0.2867\n",
      "181    0.2832\n",
      "190    0.2413\n",
      "258    0.3114\n",
      "351    0.2364\n",
      "352    0.2363\n",
      "400    0.2576\n",
      "567    0.2770\n",
      "Name: compactness_mean, dtype: float64\n"
     ]
    }
   ],
   "source": [
    "print(\"Outliers:\",df[(df.compactness_mean < lower_bound) | (df.compactness_mean > upper_bound)].compactness_mean)"
   ]
  },
  {
   "cell_type": "code",
   "execution_count": 70,
   "id": "346d632b",
   "metadata": {},
   "outputs": [
    {
     "data": {
      "text/plain": [
       "16"
      ]
     },
     "execution_count": 70,
     "metadata": {},
     "output_type": "execute_result"
    }
   ],
   "source": [
    "df[(df.compactness_mean < lower_bound) | (df.compactness_mean > upper_bound)].compactness_mean.count()"
   ]
  },
  {
   "cell_type": "code",
   "execution_count": 39,
   "id": "1833ef00",
   "metadata": {},
   "outputs": [
    {
     "data": {
      "text/plain": [
       "<seaborn.axisgrid.FacetGrid at 0x210011bf430>"
      ]
     },
     "execution_count": 39,
     "metadata": {},
     "output_type": "execute_result"
    },
    {
     "data": {
      "image/png": "[encoded data removed]",
      "text/plain": [
       "<Figure size 360x360 with 1 Axes>"
      ]
     },
     "metadata": {
      "needs_background": "light"
     },
     "output_type": "display_data"
    }
   ],
   "source": [
    "sns.displot(df.compactness_mean, kde=True)"
   ]
  },
  {
   "cell_type": "code",
   "execution_count": 41,
   "id": "a02dbaf1",
   "metadata": {},
   "outputs": [
    {
     "name": "stderr",
     "output_type": "stream",
     "text": [
      "C:\\Users\\furka\\anaconda3\\lib\\site-packages\\seaborn\\_decorators.py:36: FutureWarning: Pass the following variable as a keyword arg: x. From version 0.12, the only valid positional argument will be `data`, and passing other arguments without an explicit keyword will result in an error or misinterpretation.\n",
      "  warnings.warn(\n"
     ]
    },
    {
     "data": {
      "text/plain": [
       "<AxesSubplot:xlabel='compactness_mean'>"
      ]
     },
     "execution_count": 41,
     "metadata": {},
     "output_type": "execute_result"
    },
    {
     "data": {
      "image/png": "[encoded data removed]",
      "text/plain": [
       "<Figure size 432x288 with 1 Axes>"
      ]
     },
     "metadata": {
      "needs_background": "light"
     },
     "output_type": "display_data"
    }
   ],
   "source": [
    "sns.boxplot(df.compactness_mean)"
   ]
  },
  {
   "cell_type": "markdown",
   "id": "863e988e",
   "metadata": {},
   "source": [
    "### Sonuç olarak \"radius_mean, area_mean, compactness_mean\" hücrelerine baktığımızda üçü de negatif tarafta toplanmış durumdadır. Outlierlar ise pozitif taraftadırlar. Bu duruma pozitif çarpık da denilmektedir."
   ]
  },
  {
   "cell_type": "markdown",
   "id": "306afd8e",
   "metadata": {},
   "source": [
    "## Soru - 3\n",
    "### Pearson Correlation Map"
   ]
  },
  {
   "cell_type": "code",
   "execution_count": 22,
   "id": "8dfbc998",
   "metadata": {},
   "outputs": [
    {
     "data": {
      "image/png": "[encoded data removed]",
      "text/plain": [
       "<Figure size 432x432 with 2 Axes>"
      ]
     },
     "metadata": {
      "needs_background": "light"
     },
     "output_type": "display_data"
    }
   ],
   "source": [
    "from matplotlib import pyplot as plt\n",
    "import seaborn as sns\n",
    "f,ax = plt.subplots(figsize = (6,6))\n",
    "sns.heatmap(df.corr(),annot= True,linewidths=0.5,fmt= \".1f\", ax=ax)\n",
    "plt.xticks(rotation=90)\n",
    "plt.yticks(rotation=0)\n",
    "plt.title('Pearson Correlation Map')\n",
    "plt.show()"
   ]
  },
  {
   "cell_type": "markdown",
   "id": "596df423",
   "metadata": {},
   "source": [
    "### Pearson Correlation katsayıları"
   ]
  },
  {
   "cell_type": "code",
   "execution_count": 23,
   "id": "1af6836c",
   "metadata": {},
   "outputs": [
    {
     "name": "stdout",
     "output_type": "stream",
     "text": [
      "Pearson correlation: \n",
      "             area_mean  radius_mean\n",
      "area_mean     1.000000     0.987357\n",
      "radius_mean   0.987357     1.000000\n",
      "Pearson correlation:  0.987357170056613\n"
     ]
    }
   ],
   "source": [
    "p1 = df.loc[:,[\"area_mean\",\"radius_mean\"]].corr(method=\"pearson\")\n",
    "p2 = df.radius_mean.cov(df.area_mean)/(df.radius_mean.std()*df.area_mean.std())\n",
    "print('Pearson correlation: ')\n",
    "print(p1)\n",
    "print('Pearson correlation: ',p2)"
   ]
  },
  {
   "cell_type": "code",
   "execution_count": 24,
   "id": "793869df",
   "metadata": {},
   "outputs": [
    {
     "name": "stdout",
     "output_type": "stream",
     "text": [
      "Pearson correlation: \n",
      "                  compactness_mean  radius_mean\n",
      "compactness_mean          1.000000     0.506124\n",
      "radius_mean               0.506124     1.000000\n",
      "Pearson correlation:  0.5061235775263633\n"
     ]
    }
   ],
   "source": [
    "p1 = df.loc[:,[\"compactness_mean\",\"radius_mean\"]].corr(method=\"pearson\")\n",
    "p2 = df.radius_mean.cov(df.compactness_mean)/(df.radius_mean.std()*df.compactness_mean.std())\n",
    "print('Pearson correlation: ')\n",
    "print(p1)\n",
    "print('Pearson correlation: ',p2)"
   ]
  },
  {
   "cell_type": "code",
   "execution_count": 25,
   "id": "31030a2e",
   "metadata": {},
   "outputs": [
    {
     "name": "stdout",
     "output_type": "stream",
     "text": [
      "Pearson correlation: \n",
      "                  compactness_mean  area_mean\n",
      "compactness_mean          1.000000   0.498502\n",
      "area_mean                 0.498502   1.000000\n",
      "Pearson correlation:  0.4985016821524121\n"
     ]
    }
   ],
   "source": [
    "p1 = df.loc[:,[\"compactness_mean\",\"area_mean\"]].corr(method=\"pearson\")\n",
    "p2 = df.area_mean.cov(df.compactness_mean)/(df.area_mean.std()*df.compactness_mean.std())\n",
    "print('Pearson correlation: ')\n",
    "print(p1)\n",
    "print('Pearson correlation: ',p2)"
   ]
  },
  {
   "cell_type": "markdown",
   "id": "6a973d14",
   "metadata": {},
   "source": [
    "### Spearman Rank Coefficient"
   ]
  },
  {
   "cell_type": "code",
   "execution_count": 26,
   "id": "b5307574",
   "metadata": {},
   "outputs": [
    {
     "name": "stdout",
     "output_type": "stream",
     "text": [
      "Spearman's Correlation: \n",
      "                  area_mean  radius_mean  compactness_mean\n",
      "area_mean          1.000000     0.999602          0.488988\n",
      "radius_mean        0.999602     1.000000          0.497578\n",
      "compactness_mean   0.488988     0.497578          1.000000\n"
     ]
    }
   ],
   "source": [
    "ranked_df = df.rank()\n",
    "spearman_corr = ranked_df.loc[:,[\"area_mean\",\"radius_mean\",\"compactness_mean\"]].corr(method = \"pearson\")\n",
    "print(\"Spearman's Correlation: \")\n",
    "print(spearman_corr)"
   ]
  },
  {
   "cell_type": "markdown",
   "id": "7784f355",
   "metadata": {},
   "source": [
    "### Effect Size"
   ]
  },
  {
   "cell_type": "code",
   "execution_count": 27,
   "id": "716292c9",
   "metadata": {},
   "outputs": [
    {
     "name": "stdout",
     "output_type": "stream",
     "text": [
      "Effect Size:  1.9256579366893174\n"
     ]
    }
   ],
   "source": [
    "import numpy as np\n",
    "df_bening = df1[df1[\"diagnosis\"] == \"B\"]\n",
    "df_malignant = df1[df1[\"diagnosis\"] == \"M\"]\n",
    "mean_diff = df_malignant.radius_mean.mean() - df_bening.radius_mean.mean() # m1 - m2\n",
    "var_bening = df_bening.radius_mean.var()\n",
    "var_malignant = df_malignant.radius_mean.var()\n",
    "var_pooled = (len(df_bening)*var_malignant + len(df_malignant)*var_bening) / float(len(df_bening) + len(df_malignant))\n",
    "effect_size = mean_diff/np.sqrt(var_pooled)\n",
    "print(\"Effect Size: \",effect_size)                                                                            "
   ]
  },
  {
   "cell_type": "code",
   "execution_count": 28,
   "id": "668644cc",
   "metadata": {},
   "outputs": [
    {
     "name": "stdout",
     "output_type": "stream",
     "text": [
      "Effect Size:  1.7030110773250295\n"
     ]
    }
   ],
   "source": [
    "df_bening = df1[df1[\"diagnosis\"] == \"B\"]\n",
    "df_malignant = df1[df1[\"diagnosis\"] == \"M\"]\n",
    "mean_diff = df_malignant.area_mean.mean() - df_bening.area_mean.mean() # m1 - m2\n",
    "var_bening = df_bening.area_mean.var()\n",
    "var_malignant = df_malignant.area_mean.var()\n",
    "var_pooled = (len(df_bening)*var_malignant + len(df_malignant)*var_bening) / float(len(df_bening) + len(df_malignant))\n",
    "effect_size = mean_diff/np.sqrt(var_pooled)\n",
    "print(\"Effect Size: \",effect_size) "
   ]
  },
  {
   "cell_type": "code",
   "execution_count": 29,
   "id": "a474d359",
   "metadata": {},
   "outputs": [
    {
     "name": "stdout",
     "output_type": "stream",
     "text": [
      "Effect Size:  1.3715524376097672\n"
     ]
    }
   ],
   "source": [
    "df_bening = df1[df1[\"diagnosis\"] == \"B\"]\n",
    "df_malignant = df1[df1[\"diagnosis\"] == \"M\"]\n",
    "mean_diff = df_malignant.compactness_mean.mean() - df_bening.compactness_mean.mean() # m1 - m2\n",
    "var_bening = df_bening.compactness_mean.var()\n",
    "var_malignant = df_malignant.compactness_mean.var()\n",
    "var_pooled = (len(df_bening)*var_malignant + len(df_malignant)*var_bening) / float(len(df_bening) + len(df_malignant))\n",
    "effect_size = mean_diff/np.sqrt(var_pooled)\n",
    "print(\"Effect Size: \",effect_size) "
   ]
  },
  {
   "cell_type": "markdown",
   "id": "f01491e9",
   "metadata": {},
   "source": [
    "### Covariance"
   ]
  },
  {
   "cell_type": "code",
   "execution_count": 30,
   "id": "50e14451",
   "metadata": {
    "scrolled": true
   },
   "outputs": [
    {
     "name": "stdout",
     "output_type": "stream",
     "text": [
      "radius mean ve area mean covariance:  1224.4834093464567\n",
      "radius mean ve compactness mean covariance  0.09419705682504517\n",
      "area mean ve compactness mean covariance  9.264930788911855\n"
     ]
    },
    {
     "data": {
      "image/png": "[encoded data removed]",
      "text/plain": [
       "<Figure size 432x288 with 3 Axes>"
      ]
     },
     "metadata": {
      "needs_background": "light"
     },
     "output_type": "display_data"
    }
   ],
   "source": [
    "np.cov(df.radius_mean,df.area_mean)\n",
    "print(\"radius mean ve area mean covariance: \",df.radius_mean.cov(df.area_mean))\n",
    "print(\"radius mean ve compactness mean covariance \",df.radius_mean.cov(df.compactness_mean))\n",
    "print(\"area mean ve compactness mean covariance \",df.area_mean.cov(df.compactness_mean))\n",
    "fig, axs = plt.subplots(1, 3)\n",
    "axs[0].scatter(df.radius_mean, df.area_mean)\n",
    "axs[1].scatter(df.compactness_mean, df.radius_mean)\n",
    "axs[2].scatter(df.compactness_mean, df.area_mean)\n",
    "plt.show()"
   ]
  },
  {
   "cell_type": "markdown",
   "id": "5d917086",
   "metadata": {},
   "source": [
    "### Yorumlar\n",
    "**Correlation**\n",
    "\n",
    "Korelasyonlara baktığımızda area_mean ve radius_mean korelasyonun 1 e çok yakın bir değer olduğunu görüyoruz. Bu da bize  bu iki datanın tam pozitif korelasyon içinde olmasalarda birbirlerine çok benzer hareket ettiğini gösterir.\n",
    "\n",
    "Compactness_mean için area_mean ve radius_mean ile benzer yönleri olsada aralarında güçlü bir bağ olduğundan söz edemeyiz.\n",
    "\n",
    "\n",
    "**Covariance**\n",
    "\n",
    "Kovaryanslara baktığımızda radius_mean ve area_mean kovaryansı pozitif olduğu için hareket yönlerinde güçlü bir ilişki olduğunu anlamaktayız. Zaten grafiğimiz de bize bunu göstermekte.\n",
    "\n",
    "Compactness_mean için area_mean ve radius_mean ile aynı yönde hareket etmesine rağmen zayıf bir ilişki içinde olduğunu söyleyebiliriz."
   ]
  },
  {
   "cell_type": "markdown",
   "id": "d30b300b",
   "metadata": {},
   "source": [
    "## Soru - 4\n",
    "### Bayes Teoremi Örnekler\n",
    "\n",
    "**1-)** Kumaş üreten bir işletmede toplam üretimin %35’ini 𝑀1, %25’ni 𝑀2 ve %40’nı 𝑀3 makinesi üretmektedir. Bu makinelerin ürettiği bir top kumaşın kusurlu olma olasılıkları sırası ile%1, %3 ve %2’dir. Bir günlük üretimin sonunda bir top kumaş seçiliyor ve kusurlu olup olmadığına bakılıyor. Kumaş kusurlu ise, 𝑀1 makinesinde üretilmiş olma olasılığı nedir?\n",
    "\n",
    "- 𝐴 : “Seçilen kumaşın kusurlu olması” \n",
    "- 𝐵1: “Kumaşın 𝑀1 makinesinde üretilmesi” \n",
    "- 𝐵2: “Kumaşın 𝑀2 makinesinde üretilmesi” \n",
    "- 𝐵3: “Kumaşın 𝑀3 makinesinde üretilmesi”\n",
    "\n",
    "```\n",
    "𝑃(𝐵1 |𝐴) = 𝑃(𝐵1 ∩ 𝐴) / 𝑃(𝐴) = 𝑃(𝐵1 )𝑃(𝐴|𝐵1 ) /[ 𝑃(𝐵1 )𝑃(𝐴|𝐵1 ) + 𝑃(𝐵2 )𝑃(𝐴|𝐵2 ) + 𝑃(𝐵3 )𝑃(𝐴|𝐵3)]\n",
    "\n",
    "= (0,35.0,01)/[(0,35.0,01) + (0,25.0,03) + (0,4.0,02) = 0,18\n",
    "```\n",
    "\n",
    "**2-)**  Saman nezlesi varsa, kişinin romatoid artrit olasılığı olduğunu bulmak isteyebilirsiniz. Bu örnekte, \"saman nezlesi geçirme\", romatoid artritin (olay) testidir.\n",
    "-\t\"Hastanın romatoid artriti var\" olayı olurdu. Veriler, bir klinikteki hastaların yüzde 10'unun bu artrit tipine sahip olduğunu göstermektedir. \n",
    "\n",
    "P (A) = 0,10\n",
    "\n",
    "-\tB test \"hasta saman nezlesi vardır.\" Veriler, bir klinikteki hastaların yüzde 5'inin saman nezlesi olduğunu göstermektedir. \n",
    "\n",
    "P (B) = 0,05\n",
    "\n",
    "-\tKlinik bulguları, romatoid artritli hastaların yüzde 7'sinde saman nezlesi olduğunu da göstermektedir. Diğer bir deyişle, romatizmal artriti olan bir hastanın saman nezlesi olasılığı yüzde 7'dir. B ∣ A = 0,07\n",
    "Bu değerleri teorem içine takmak:\n",
    "\n",
    "```\n",
    "P (A-B) = (0.07 * 0.10) / (0.05) = 0.14\n",
    "```\n",
    "\n",
    "Yani, bir hastanın saman nezlesi varsa, romatoid artrit geçirme şansları yüzde 14'tür. Saman nezlesi romatoid artriti olan rastgele bir hasta olasılığı düşüktür.\n",
    "\n",
    "**3-)** Bir danışmanlık şirketin üyeleri, 1. işletmeden %60 , 2. işletmeden %30 ve 3. işletmeden %10 oranında olmak üzere üç işletmeden araba kiralamaktadırlar. 1. işletmeden gelen araçların %9’u, 2. işetmeden gelen araçların %20’si ve 3. işletmeden gelen araçların %6’sı bakım gerektiriyorsa,\n",
    "\n",
    " a)\tŞirkete kiralanan bir aracın bakım gerektirme olasılığı nedir?\n",
    "\n",
    " b)\tBakım gerektiren aracın 2. işletmeden gelmiş olma olasılığı nedir?\n",
    "\n",
    " B: Bir arabanın bakım gerektirmesi\n",
    "\n",
    " Ai: Arabanın 1, 2 ya da 3. işletmeden gelme i= 1, 2, 3 olayları olsun.\n",
    "\n",
    "\n",
    "```\n",
    "P( A1 ) = 0,60,     P( A2 ) = 0.30,          P(A3)=0.10\n",
    "P(B | A1 ) = 0.09\tP(B | A2 ) = 0.20         P(B | A3 ) = 0.06\n",
    "```\n",
    " a) P(B) = arabanın\tbakım\tgerektirme\tolasılığı\tsoruluyor.\tToplam olasılıktan yararlanılarak bulunur.\n",
    "```\n",
    "P(B) = (P(B | A1 ).P( A1 ) + P(B | A2 ).P( A2 ) + P(B | A3 ).P( A3 )\n",
    "= (0.60).(0.09) + (0.30).(0.20) + (0.10).(0.06)\n",
    "= 0.12\n",
    "```\n",
    " Bu şirkette kiralanan araçların %12’sini bakım gerektirecektir.\n",
    "\n",
    "    b) Danışmanlık şirketinin kiraladığı araba bakım gerektiriyorsa bu arabanın 2. işletmeden gelmiş olma olasılığı Bayes teoreminden yararlanılarak bulunabilir.\n",
    "\n",
    "```\n",
    "P( A| B) = [P(B | A2 ).P( A2 )] /   P(B | A ).P( A ) =  0.5\n",
    "```\n",
    "\n",
    "danışmanlık şirketinin kiraladığı arabalardan yalnızca%30’nun 2. işletmeden gelmesine karşın, bakım gerektiren arabaların yarısı (%50 si) 2. işletmeden gelmektedir.\n",
    "\n",
    "\n",
    "\n",
    "\n",
    "\n",
    "**4-)** Bir hava üssünde tehlike olduğu zaman alarm sisteminin çalışması olasılığı 0.99, tehlike olmadığında alarm vermemesi olasılığı 0.98 ve herhangi bir anda tehlike olması olasılığı da 0.003’tür.\n",
    "Hava üssündeki alarm çalıştığına göre, tehlike nedeniyle çalmış olması olasılığı nedir?\n",
    "\n",
    "A: Alarm sisteminin çalışması\n",
    "\n",
    "B: Tehlike olması olaylarını göstersin\n",
    "```\n",
    "\n",
    "P( A | B) = 0.99,   P(B) = 0.003 = P(B’) = 0.997olur.\n",
    "\n",
    "P( A’ | B’) = 0.98 ise P( A | B’) = 0.02 olur.\n",
    "```\n",
    "Alarm sistemi çalışıyorsa tehlike nedeniyle olması olasılığı P(B|A)=? \n",
    "```\n",
    "\n",
    "P(B | A) =[ P( A | B) : P(B) ] / P( A | B).P(B) = P( A | B’).P(B’)\n",
    "\n",
    "= [(0.99).(0.003)] / [(0.99).(0.003)  (0.02).(0.997)] = 297/2291\n",
    "```\n",
    "\n",
    "Alarm sisteminin çalıştığı bilindiğine göre tehlike nedeniyle çalışması olasılığı, yaklaşık olarak, **%13**’tür.\n",
    "\n",
    "\n",
    "\n",
    "\n",
    "\n",
    "\n",
    "**5-)** İki tabak dolusu bisküvi düşünülsün; \n",
    "Tabak -1 içinde 10 tane çikolatalı bisküvi ve 30 tane sade bisküvi bulunduğu kabul edilsin. \n",
    "\n",
    "Tabak -2 içinde ise her iki tip bisküviden 20’şer tane olduğu bilinsin.\n",
    "\n",
    "Evin küçük çocuğu bir tabağı rastgele seçip bu tabaktan rastgele bir bisküvi seçip alsın.Çocuğun bir tabağı diğerine ve bir tip bisküviyi diğerine tercih etmekte olduğuna dair elimizde hiçbir gösterge bulunmamaktadır.Çocuğun seçtiği bisküvinin sade olduğu görülsün.\n",
    "\n",
    "a-) Çocuğun bu sade bisküviyi Tabak -1’ den seçmiş olmasının olasılığı nedir?\n",
    "\n",
    "Çocuğun bir sade bisküvi seçmiş olduğu bilinmektedir; \n",
    "\n",
    "O halde bu koşulla birlikte Tabak -1’den seçim yapması olasılığı ne olacaktır?\n",
    "\n",
    "P(A) veya hiçbir diğer bilgi olmadan çocuğun tabak -1'den seçim yapması olasılığı\n",
    "\n",
    "P(B) veya hiçbir diğer bilgi olmadan çocuğun bir sade bisküvi seçmesi olasılığı. \n",
    "\n",
    "Tabak -1'den bir sade bisküvi seçme olasılığı (30/40)= **0,75**\n",
    "\n",
    "Tabak -2'den sade bisküvi seçme olasılığı     (20/40)= **0,5** olur.\n",
    "\n",
    "Her iki tabaktan seçme olasılığı ise her tabak aynı şekilde uygulama gördüğü için **0,50** olur. \n",
    "\n",
    "Böylece bu problemin tümü için bir sade bisküvi seçme olasılığı (0.75×0.5) + (0.5×0.5) = **0.625** olarak bulunur.\n",
    "\n",
    "P(B|A), veya çocuğun tabak -1'den seçim yaptığı bilirken bir sade bisküvi seçmesi: Bu 0,75 olarak bilinmektedir çünkü tabak -1'deki toplam 40 bisküviden 30'u sade bisküvidir.Şimdi bu açıklanan tüm olasılık değerleri Bayes Teoremi formülüne konulursa;Böylece çocuğun sade bisküvi seçimi bilindiğine göre tabak -1'den alma olasılığı **%60**'dır.\n",
    "\n",
    "\n",
    "\n",
    "\n",
    "\n",
    "\n",
    "\n",
    " \n",
    " \n",
    " \n",
    "\n",
    "\n",
    "\n"
   ]
  },
  {
   "cell_type": "markdown",
   "id": "ef2bd454",
   "metadata": {},
   "source": [
    "## Soru - 5\n",
    "### Olasılık Dağılımları Karşılaştırmalı Tablo"
   ]
  },
  {
   "cell_type": "markdown",
   "id": "1c5bf383",
   "metadata": {},
   "source": [
    "|                                                                                                                                    Normal Dağılım                                                                                                                                    |                                                                                                      Poisson Dağılımı                                                                                                      |                                    Gamma Dağılımı                                   |                                                                                                                                               Weilbull Dağılımı                                                                                                                                              |                                                                             Logaritmik Dağılım                                                                            |\n",
    "|:------------------------------------------------------------------------------------------------------------------------------------------------------------------------------------------------------------------------------------------------------------------------------------:|:--------------------------------------------------------------------------------------------------------------------------------------------------------------------------------------------------------------------------:|:-----------------------------------------------------------------------------------:|:------------------------------------------------------------------------------------------------------------------------------------------------------------------------------------------------------------------------------------------------------------------------------------------------------------:|:-------------------------------------------------------------------------------------------------------------------------------------------------------------------------:|\n",
    "| Normal Olasılık Dağılımı, bütün olasılık dağılımı modelleri  içinde en çok kullanılan modeldir.  Ölçüm hatalarının modellenmesindeki başarısından  dolayı fizikçiler tarafından bu isimle anılmaktadır. Gauss Olasılık Dağılımı ve Çan Biçimli Dağılım olarak da adlandırılmaktadır. | Belli bir zaman aralığında,  belli bir alanda nadir rastlanan  olayların olasılık dağılımlarını  poisson dağılımı ile modellenebilir.  Poisson dağılımı ortalaması ve  varyansı aynı olan  tek parametreli bir dağılımdır. | Güvenilirlik teorisinde  kullanılır. İki parametrelidir.  Şekil ve oran parametresi | Genellikle yaşam süreli veri analizinde kullanılır. Başarısızlık oranları ile ilgili veri seti için kurulacak modellerde yaygın olarak kullanılmaktadır. İki parametreli bir dağılımdır. Ölçek ve biçim parametresi. Bazı durumlarda konum parametresi de eklenerek üç parametreli olarak da çözümlenebilir. | Log-normal  Dağılımı adından da anlaşılacağı gibi normal dağılıma benzerdir. Logaritması Normal Dağılıma uyan  bir rasgele değişkenin Dağılımı   olarak tanımlayabiliriz  |\n",
    "|                                                                                                                          Sürekli,simetrik, outlier sayısı az                                                                                                                         |                                                                                                           Kesikli                                                                                                          |         Sürekli, asimetrik, outlierlar genellikle pozitif tarafta toplanmış         |                                                                                                                      Sürekli, asimetrik, outlierlar genellikle pozitif tarafta toplanmış                                                                                                                     |                                                    Sürekli,asimetriki, outlierlar genellikle  pozitif tarafta toplanmış                                                   |\n",
    "|                                                      Verilen bir normal dağılım probleminde olasılıkları hesaplamak, verilen bir sayısal datanın normal dağılımla  temsil edilip edilemeyeceğini belirlemek için kullanılabilir.                                                     |                                                 Bir turnikeden 1 dakikada geçen insan sayısı Bir kavşakta 1 saat içinde meydana  gelen trafik kazalarıgibi çoğaltılabilir.                                                 |                         Arıza zamanlarının tahmin edilmesi.                         |                                                                                       Rüzgar enerjisi potansiyelini belirlemede  en çok kullanılan dağılımdır. Ekstra olarak arıza zamanlarının tahmininde kullanılır.                                                                                       |                   Hisse senedi fiyatlarını, emlak fiyatlarını, ödeme ölçeklerini ve petrol rezervuar boyutunu belirlemek için yaygın olarak kullanılır.                   |"
   ]
  },
  {
   "cell_type": "code",
   "execution_count": null,
   "id": "2633fad1",
   "metadata": {},
   "outputs": [],
   "source": []
  }
 ],
 "metadata": {
  "kernelspec": {
   "display_name": "Python 3",
   "language": "python",
   "name": "python3"
  },
  "language_info": {
   "codemirror_mode": {
    "name": "ipython",
    "version": 3
   },
   "file_extension": ".py",
   "mimetype": "text/x-python",
   "name": "python",
   "nbconvert_exporter": "python",
   "pygments_lexer": "ipython3",
   "version": "3.8.8"
  }
 },
 "nbformat": 4,
 "nbformat_minor": 5
}
